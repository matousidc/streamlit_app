{
 "cells": [
  {
   "cell_type": "code",
   "execution_count": 8,
   "metadata": {},
   "outputs": [],
   "source": [
    "import numpy as np\n",
    "import pandas as pd"
   ]
  },
  {
   "cell_type": "code",
   "execution_count": 43,
   "metadata": {},
   "outputs": [],
   "source": [
    "df = pd.read_pickle(\"jobs_df.pkl\")"
   ]
  },
  {
   "cell_type": "code",
   "execution_count": 44,
   "metadata": {},
   "outputs": [
    {
     "data": {
      "text/html": [
       "<div>\n",
       "<style scoped>\n",
       "    .dataframe tbody tr th:only-of-type {\n",
       "        vertical-align: middle;\n",
       "    }\n",
       "\n",
       "    .dataframe tbody tr th {\n",
       "        vertical-align: top;\n",
       "    }\n",
       "\n",
       "    .dataframe thead th {\n",
       "        text-align: right;\n",
       "    }\n",
       "</style>\n",
       "<table border=\"1\" class=\"dataframe\">\n",
       "  <thead>\n",
       "    <tr style=\"text-align: right;\">\n",
       "      <th></th>\n",
       "      <th>title</th>\n",
       "      <th>link</th>\n",
       "      <th>date_of_scraping</th>\n",
       "      <th>skills</th>\n",
       "      <th>pay</th>\n",
       "    </tr>\n",
       "  </thead>\n",
       "  <tbody>\n",
       "    <tr>\n",
       "      <th>0</th>\n",
       "      <td>Cloud infrastructure engineer with Azure/Googl...</td>\n",
       "      <td>https://jobs.techloop.io/job/25732</td>\n",
       "      <td>2023-06-10</td>\n",
       "      <td>python,git,linux</td>\n",
       "      <td>Salary hidden by company</td>\n",
       "    </tr>\n",
       "    <tr>\n",
       "      <th>1</th>\n",
       "      <td>Cloud infrastructure engineer Crypto Services ...</td>\n",
       "      <td>https://jobs.techloop.io/job/25734</td>\n",
       "      <td>2023-06-10</td>\n",
       "      <td>python,git,linux</td>\n",
       "      <td>Salary hidden by company</td>\n",
       "    </tr>\n",
       "    <tr>\n",
       "      <th>2</th>\n",
       "      <td>System Engineer II – Anthem Flight Controls</td>\n",
       "      <td>https://jobs.techloop.io/job/25788</td>\n",
       "      <td>2023-06-10</td>\n",
       "      <td>python</td>\n",
       "      <td>Salary hidden by company</td>\n",
       "    </tr>\n",
       "    <tr>\n",
       "      <th>3</th>\n",
       "      <td>Advanced Systems Engineer for Integrated Cockpit</td>\n",
       "      <td>https://jobs.techloop.io/job/25787</td>\n",
       "      <td>2023-06-10</td>\n",
       "      <td>python</td>\n",
       "      <td>Salary hidden by company</td>\n",
       "    </tr>\n",
       "    <tr>\n",
       "      <th>4</th>\n",
       "      <td>SW Design Engineer II – Black Boxes</td>\n",
       "      <td>https://jobs.techloop.io/job/25789</td>\n",
       "      <td>2023-06-10</td>\n",
       "      <td>python,sql</td>\n",
       "      <td>Salary hidden by company</td>\n",
       "    </tr>\n",
       "    <tr>\n",
       "      <th>...</th>\n",
       "      <td>...</td>\n",
       "      <td>...</td>\n",
       "      <td>...</td>\n",
       "      <td>...</td>\n",
       "      <td>...</td>\n",
       "    </tr>\n",
       "    <tr>\n",
       "      <th>119</th>\n",
       "      <td>SW engineer in embedded development</td>\n",
       "      <td>https://jobs.techloop.io/job/23599</td>\n",
       "      <td>2023-05-06</td>\n",
       "      <td>python</td>\n",
       "      <td>Salary hidden by company</td>\n",
       "    </tr>\n",
       "    <tr>\n",
       "      <th>120</th>\n",
       "      <td>Elektro-systémový inženýr se zaměřením na SPACE</td>\n",
       "      <td>https://jobs.techloop.io/job/21768</td>\n",
       "      <td>2023-05-06</td>\n",
       "      <td>python</td>\n",
       "      <td>Salary hidden by company</td>\n",
       "    </tr>\n",
       "    <tr>\n",
       "      <th>121</th>\n",
       "      <td>Robotic Process Automation Developer (RPA)</td>\n",
       "      <td>https://jobs.techloop.io/job/13182</td>\n",
       "      <td>2023-05-06</td>\n",
       "      <td>git</td>\n",
       "      <td>Salary hidden by company</td>\n",
       "    </tr>\n",
       "    <tr>\n",
       "      <th>122</th>\n",
       "      <td>SENIOR SERVISNÍ TECHNIK / VEDOUCÍ SERVISU</td>\n",
       "      <td>https://jobs.techloop.io/job/23948</td>\n",
       "      <td>2023-05-06</td>\n",
       "      <td>python</td>\n",
       "      <td>Salary hidden by company</td>\n",
       "    </tr>\n",
       "    <tr>\n",
       "      <th>123</th>\n",
       "      <td>Senior Network Engineer</td>\n",
       "      <td>https://jobs.techloop.io/job/23731</td>\n",
       "      <td>2023-05-06</td>\n",
       "      <td>python,bash,linux</td>\n",
       "      <td>Salary hidden by company</td>\n",
       "    </tr>\n",
       "  </tbody>\n",
       "</table>\n",
       "<p>124 rows × 5 columns</p>\n",
       "</div>"
      ],
      "text/plain": [
       "                                                 title  \\\n",
       "0    Cloud infrastructure engineer with Azure/Googl...   \n",
       "1    Cloud infrastructure engineer Crypto Services ...   \n",
       "2          System Engineer II – Anthem Flight Controls   \n",
       "3     Advanced Systems Engineer for Integrated Cockpit   \n",
       "4                  SW Design Engineer II – Black Boxes   \n",
       "..                                                 ...   \n",
       "119                SW engineer in embedded development   \n",
       "120    Elektro-systémový inženýr se zaměřením na SPACE   \n",
       "121         Robotic Process Automation Developer (RPA)   \n",
       "122          SENIOR SERVISNÍ TECHNIK / VEDOUCÍ SERVISU   \n",
       "123                            Senior Network Engineer   \n",
       "\n",
       "                                   link date_of_scraping             skills  \\\n",
       "0    https://jobs.techloop.io/job/25732       2023-06-10   python,git,linux   \n",
       "1    https://jobs.techloop.io/job/25734       2023-06-10   python,git,linux   \n",
       "2    https://jobs.techloop.io/job/25788       2023-06-10             python   \n",
       "3    https://jobs.techloop.io/job/25787       2023-06-10             python   \n",
       "4    https://jobs.techloop.io/job/25789       2023-06-10         python,sql   \n",
       "..                                  ...              ...                ...   \n",
       "119  https://jobs.techloop.io/job/23599       2023-05-06             python   \n",
       "120  https://jobs.techloop.io/job/21768       2023-05-06             python   \n",
       "121  https://jobs.techloop.io/job/13182       2023-05-06                git   \n",
       "122  https://jobs.techloop.io/job/23948       2023-05-06             python   \n",
       "123  https://jobs.techloop.io/job/23731       2023-05-06  python,bash,linux   \n",
       "\n",
       "                          pay  \n",
       "0    Salary hidden by company  \n",
       "1    Salary hidden by company  \n",
       "2    Salary hidden by company  \n",
       "3    Salary hidden by company  \n",
       "4    Salary hidden by company  \n",
       "..                        ...  \n",
       "119  Salary hidden by company  \n",
       "120  Salary hidden by company  \n",
       "121  Salary hidden by company  \n",
       "122  Salary hidden by company  \n",
       "123  Salary hidden by company  \n",
       "\n",
       "[124 rows x 5 columns]"
      ]
     },
     "execution_count": 44,
     "metadata": {},
     "output_type": "execute_result"
    }
   ],
   "source": [
    "df"
   ]
  },
  {
   "cell_type": "code",
   "execution_count": 23,
   "metadata": {},
   "outputs": [
    {
     "name": "stdout",
     "output_type": "stream",
     "text": [
      "(52, title                  Penetrační tester/Etický hacker\n",
      "link                https://jobs.techloop.io/job/21428\n",
      "date_of_scraping                            2023-05-06\n",
      "skills                                                \n",
      "pay                                                NaN\n",
      "Name: 52, dtype: object)\n",
      "(65, title                  Firmware Developer / Vývojář FW\n",
      "link                https://jobs.techloop.io/job/23188\n",
      "date_of_scraping                            2023-05-06\n",
      "skills                                          python\n",
      "pay                                                NaN\n",
      "Name: 65, dtype: object)\n"
     ]
    },
    {
     "data": {
      "text/plain": [
       "[52, 65]"
      ]
     },
     "execution_count": 23,
     "metadata": {},
     "output_type": "execute_result"
    }
   ],
   "source": [
    "for x in df.iterrows():\n",
    "    if pd.isna(x[1].pay):\n",
    "        print(x)\n",
    "\n",
    "to_remove = [x[0] for x in df.iterrows() if pd.isna(x[1].pay)]\n",
    "to_remove"
   ]
  },
  {
   "cell_type": "code",
   "execution_count": 46,
   "metadata": {},
   "outputs": [
    {
     "data": {
      "text/html": [
       "<div>\n",
       "<style scoped>\n",
       "    .dataframe tbody tr th:only-of-type {\n",
       "        vertical-align: middle;\n",
       "    }\n",
       "\n",
       "    .dataframe tbody tr th {\n",
       "        vertical-align: top;\n",
       "    }\n",
       "\n",
       "    .dataframe thead th {\n",
       "        text-align: right;\n",
       "    }\n",
       "</style>\n",
       "<table border=\"1\" class=\"dataframe\">\n",
       "  <thead>\n",
       "    <tr style=\"text-align: right;\">\n",
       "      <th></th>\n",
       "      <th>title</th>\n",
       "      <th>link</th>\n",
       "      <th>date_of_scraping</th>\n",
       "      <th>skills</th>\n",
       "      <th>pay</th>\n",
       "    </tr>\n",
       "  </thead>\n",
       "  <tbody>\n",
       "    <tr>\n",
       "      <th>24</th>\n",
       "      <td>IT Business Analyst</td>\n",
       "      <td>https://jobs.techloop.io/job/25006</td>\n",
       "      <td>2023-05-29</td>\n",
       "      <td>python,git,sql</td>\n",
       "      <td>Monthly 1 ~ 1 CZK (Gross)</td>\n",
       "    </tr>\n",
       "  </tbody>\n",
       "</table>\n",
       "</div>"
      ],
      "text/plain": [
       "                  title                                link date_of_scraping  \\\n",
       "24  IT Business Analyst  https://jobs.techloop.io/job/25006       2023-05-29   \n",
       "\n",
       "            skills                        pay  \n",
       "24  python,git,sql  Monthly 1 ~ 1 CZK (Gross)  "
      ]
     },
     "execution_count": 46,
     "metadata": {},
     "output_type": "execute_result"
    }
   ],
   "source": [
    "df['skills'].value_counts()\n",
    "df.iloc[df[df['pay'] == 'Monthly 1 ~ 1 CZK (Gross)'].index]"
   ]
  },
  {
   "cell_type": "code",
   "execution_count": 243,
   "metadata": {},
   "outputs": [
    {
     "data": {
      "text/plain": [
       "False"
      ]
     },
     "execution_count": 243,
     "metadata": {},
     "output_type": "execute_result"
    }
   ],
   "source": [
    "pd.isna(df.loc[0,'skills'])\n",
    "pd.isnull(df.loc[0,'skills'])\n",
    "df.loc[0,'skills'] == ''"
   ]
  },
  {
   "cell_type": "code",
   "execution_count": 245,
   "metadata": {},
   "outputs": [
    {
     "data": {
      "text/html": [
       "<div>\n",
       "<style scoped>\n",
       "    .dataframe tbody tr th:only-of-type {\n",
       "        vertical-align: middle;\n",
       "    }\n",
       "\n",
       "    .dataframe tbody tr th {\n",
       "        vertical-align: top;\n",
       "    }\n",
       "\n",
       "    .dataframe thead th {\n",
       "        text-align: right;\n",
       "    }\n",
       "</style>\n",
       "<table border=\"1\" class=\"dataframe\">\n",
       "  <thead>\n",
       "    <tr style=\"text-align: right;\">\n",
       "      <th></th>\n",
       "      <th>title</th>\n",
       "      <th>link</th>\n",
       "      <th>date_of_scraping</th>\n",
       "      <th>skills</th>\n",
       "    </tr>\n",
       "  </thead>\n",
       "  <tbody>\n",
       "    <tr>\n",
       "      <th>0</th>\n",
       "      <td>Python Backend Developer | Django (Praha/Brno)</td>\n",
       "      <td>aaaaaaaaaaa</td>\n",
       "      <td>2023-05-08</td>\n",
       "      <td>python,git,sql,sqlite,ml</td>\n",
       "    </tr>\n",
       "    <tr>\n",
       "      <th>1</th>\n",
       "      <td>Python Backend Developer | Django (Praha/Brno)</td>\n",
       "      <td>https://jobs.techloop.io/job/24269</td>\n",
       "      <td>2023-05-08</td>\n",
       "      <td>python,git,sql,sqlite,ml</td>\n",
       "    </tr>\n",
       "    <tr>\n",
       "      <th>2</th>\n",
       "      <td>Python Developer – Market Risk (mid/senior lev...</td>\n",
       "      <td>https://jobs.techloop.io/job/19922</td>\n",
       "      <td>2023-05-06</td>\n",
       "      <td>git,pandas</td>\n",
       "    </tr>\n",
       "    <tr>\n",
       "      <th>3</th>\n",
       "      <td>Firmware Developer / Vývojář FW</td>\n",
       "      <td>https://jobs.techloop.io/job/23188</td>\n",
       "      <td>2023-05-06</td>\n",
       "      <td>python</td>\n",
       "    </tr>\n",
       "    <tr>\n",
       "      <th>4</th>\n",
       "      <td>System Engineer - Cloud Operations</td>\n",
       "      <td>https://jobs.techloop.io/job/16867</td>\n",
       "      <td>2023-05-06</td>\n",
       "      <td>python,git,bash,linux,sql</td>\n",
       "    </tr>\n",
       "    <tr>\n",
       "      <th>...</th>\n",
       "      <td>...</td>\n",
       "      <td>...</td>\n",
       "      <td>...</td>\n",
       "      <td>...</td>\n",
       "    </tr>\n",
       "    <tr>\n",
       "      <th>72</th>\n",
       "      <td>Robotic Process Automation Developer (RPA)</td>\n",
       "      <td>https://jobs.techloop.io/job/13182</td>\n",
       "      <td>2023-05-06</td>\n",
       "      <td>git</td>\n",
       "    </tr>\n",
       "    <tr>\n",
       "      <th>73</th>\n",
       "      <td>IT specialist / System Administrator</td>\n",
       "      <td>https://jobs.techloop.io/job/24015</td>\n",
       "      <td>2023-05-06</td>\n",
       "      <td>python,linux,sql</td>\n",
       "    </tr>\n",
       "    <tr>\n",
       "      <th>74</th>\n",
       "      <td>Software Test Engineer (m/ž)</td>\n",
       "      <td>https://jobs.techloop.io/job/17900</td>\n",
       "      <td>2023-05-06</td>\n",
       "      <td>python,git</td>\n",
       "    </tr>\n",
       "    <tr>\n",
       "      <th>75</th>\n",
       "      <td>Specialista/ka datové analytiky - Data scientist</td>\n",
       "      <td>https://jobs.techloop.io/job/22651</td>\n",
       "      <td>2023-05-06</td>\n",
       "      <td>python,pandas,numpy,sql,ml</td>\n",
       "    </tr>\n",
       "    <tr>\n",
       "      <th>76</th>\n",
       "      <td>SW Test Engineer</td>\n",
       "      <td>https://jobs.techloop.io/job/19177</td>\n",
       "      <td>2023-05-06</td>\n",
       "      <td>git</td>\n",
       "    </tr>\n",
       "  </tbody>\n",
       "</table>\n",
       "<p>77 rows × 4 columns</p>\n",
       "</div>"
      ],
      "text/plain": [
       "                                                title  \\\n",
       "0      Python Backend Developer | Django (Praha/Brno)   \n",
       "1      Python Backend Developer | Django (Praha/Brno)   \n",
       "2   Python Developer – Market Risk (mid/senior lev...   \n",
       "3                     Firmware Developer / Vývojář FW   \n",
       "4                  System Engineer - Cloud Operations   \n",
       "..                                                ...   \n",
       "72         Robotic Process Automation Developer (RPA)   \n",
       "73               IT specialist / System Administrator   \n",
       "74                       Software Test Engineer (m/ž)   \n",
       "75   Specialista/ka datové analytiky - Data scientist   \n",
       "76                                   SW Test Engineer   \n",
       "\n",
       "                                  link date_of_scraping  \\\n",
       "0                          aaaaaaaaaaa       2023-05-08   \n",
       "1   https://jobs.techloop.io/job/24269       2023-05-08   \n",
       "2   https://jobs.techloop.io/job/19922       2023-05-06   \n",
       "3   https://jobs.techloop.io/job/23188       2023-05-06   \n",
       "4   https://jobs.techloop.io/job/16867       2023-05-06   \n",
       "..                                 ...              ...   \n",
       "72  https://jobs.techloop.io/job/13182       2023-05-06   \n",
       "73  https://jobs.techloop.io/job/24015       2023-05-06   \n",
       "74  https://jobs.techloop.io/job/17900       2023-05-06   \n",
       "75  https://jobs.techloop.io/job/22651       2023-05-06   \n",
       "76  https://jobs.techloop.io/job/19177       2023-05-06   \n",
       "\n",
       "                        skills  \n",
       "0     python,git,sql,sqlite,ml  \n",
       "1     python,git,sql,sqlite,ml  \n",
       "2                   git,pandas  \n",
       "3                       python  \n",
       "4    python,git,bash,linux,sql  \n",
       "..                         ...  \n",
       "72                         git  \n",
       "73            python,linux,sql  \n",
       "74                  python,git  \n",
       "75  python,pandas,numpy,sql,ml  \n",
       "76                         git  \n",
       "\n",
       "[77 rows x 4 columns]"
      ]
     },
     "execution_count": 245,
     "metadata": {},
     "output_type": "execute_result"
    }
   ],
   "source": [
    "df= pd.merge(df,dff, how='outer')\n",
    "df['date_of_scraping'] = df['date_of_scraping'].astype('datetime64[D]')\n",
    "df.sort_values(by=['date_of_scraping'], ascending=False, ignore_index=True, inplace=True)\n",
    "df.drop_duplicates('link', keep='last', inplace=True)\n",
    "df = df.reset_index(drop=True)\n",
    "df"
   ]
  },
  {
   "cell_type": "code",
   "execution_count": 246,
   "metadata": {},
   "outputs": [
    {
     "name": "stdout",
     "output_type": "stream",
     "text": [
      "0\n",
      "title               Python Backend Developer | Django (Praha/Brno)\n",
      "link                                                   aaaaaaaaaaa\n",
      "date_of_scraping                               2023-05-08 00:00:00\n",
      "skills                                    python,git,sql,sqlite,ml\n",
      "Name: 0, dtype: object\n",
      "Python Backend Developer | Django (Praha/Brno)\n",
      "<class 'pandas.core.series.Series'>\n"
     ]
    }
   ],
   "source": [
    "for x in df.iterrows():\n",
    "    print(x[0])\n",
    "    print(x[1])\n",
    "    print(x[1].title)\n",
    "    print(type(x[1]))\n",
    "    break"
   ]
  },
  {
   "cell_type": "code",
   "execution_count": 247,
   "metadata": {},
   "outputs": [],
   "source": [
    "text = \"\"\"<p class=\"MuiTypography-root MuiTypography-body1 css-1rlo451\"><span>About “Data Strategy, Management &amp; Ethics” team\n",
    "<p>The team is based in Prague and Brno and focuses on strategic consulting services in the topic of data. We design data strategies for global clients, build data implementation roadmaps, set overall data visions, help manage data (e.g. data governance, quality, MDM etc.), advise on the use of advanced analytics (e.g. ML, NLP etc.) and drive regulatory and ethical compliance (e.g. EU’s AI Act etc.). Being part of a wider ‘Digital Enablement’ area, we work closely with other teams focused on Big Data &amp; Data Science, Business Intelligence &amp; Reporting, as well as Digital Transformation and Software Development.</p>\n",
    "About Manager\n",
    "<p>Patrik is the team manager leading consulting services and being responsible for the Data Strategy, Management &amp; Ethics team. Patrik studied at University of Kent and dedicated his early career to development of analytics and business intelligence before transitioning to advisory roles. In recent years, Patrik worked with some of Europe's largest organisations: supported an Energy client in the Netherlands; advised a major Retailer in Sweden; and built a strategy for a smart city in Saudi Arabia. Patrik enjoys free time with his family and stays active trail running, and walking his dog Molly.</p>\n",
    "Job description &amp; summary\n",
    "<p>As a part of our “Data Strategy, Management &amp; Ethics” team you will:</p>\n",
    "<ul>\n",
    "<li>Develop custom Python code and solutions.</li>\n",
    "<li>Continuously identify new solution concepts and innovations.</li>\n",
    "<li>Develop and support already running solutions and tools both in Czechia and globally for internal and external clients.</li>\n",
    "<li>Collaborate and interact with cross-functional project, business and development teams.</li>\n",
    "<li>Operate in a focused team that will require a proactive and independent attitude.</li>\n",
    "<li>Help shape and expand the current practice by introducing new technologies and approaches.</li>\n",
    "<li>Share best practices and knowledge both internally and externally.</li>\n",
    "<li>Requirement of the role</li>\n",
    "<li>Minimum of 1-2 years of experience of development in Python.</li>\n",
    "<li>Python programming skills and knowledge of Git.</li>\n",
    "<li>Experience preferred with standard libraries like numpy, pandas, scikit-learn, requests, openpyxl, pyodbc and similar.</li>\n",
    "<li>Open-minded and creative to try out new frameworks, tools and technologies.</li>\n",
    "<li>Proactive in development of new concepts and solutions.</li>\n",
    "<li>Able to work independently and interact with stakeholders across hierarchies.</li>\n",
    "<li>Professionally fluent in English and preferred but not essential Czech or Slovak.</li>\n",
    "</ul>\n",
    "What we are offering\n",
    "<ul>\n",
    "<li>Stable and challenging working environment providing plenty of opportunities for your continuous professional growth.</li>\n",
    "<li>Paid time off 25 days, 3 sick days and 1-2 extra days off at the end of the year.</li>\n",
    "<li>High-end Ultrabook and iPhone with unlimited data.</li>\n",
    "<li>Benefit program with 30.000 points that you can use for holidays, education, food vouchers, sports (Multisport), health... Simply on what you enjoy.</li>\n",
    "<li>Big support for your education and development. Each employee has their own budget and your proactivity is highly welcomed.</li>\n",
    "<li>After-work and team activities (team building, ski weekend, etc..)</li>\n",
    "<li>You will develop your skills while having the support from the top notch professionals in the team (e.g. career coaching, etc).</li>\n",
    "<li>Opportunity to work in the future at a foreign PwC office, for example in the USA, Canada and there are others in the selection.</li>\n",
    "</ul>\n",
    "<p>PwC is the largest audit team in the Czech Republic, law, tax, consulting and technology, data or forensic teams. Find out how easy it is to combine this knowledge when you're in the right place.</p>\n",
    "<p>With us, you will get the opportunity to see how business is done in large companies. We are part of an international network of companies with more than 327,000 colleagues in 155 countries.</p>\n",
    "<p>Once you've applied for a position, our recruiter for the Digital Enablement team will contact you . You'll then have an interview/selection process. If you're successful and you also get along with the hiring manager, you're good to go and start your career!</p></span></p>\"\"\""
   ]
  },
  {
   "cell_type": "code",
   "execution_count": 248,
   "metadata": {},
   "outputs": [],
   "source": [
    "text = str.lower(text)"
   ]
  },
  {
   "cell_type": "code",
   "execution_count": 249,
   "metadata": {},
   "outputs": [
    {
     "data": {
      "text/plain": [
       "['python', 'git', 'pandas', 'scikit-learn', 'numpy']"
      ]
     },
     "execution_count": 249,
     "metadata": {},
     "output_type": "execute_result"
    }
   ],
   "source": [
    "possible_skills = ['python', 'git', 'pandas', 'scikit-learn', 'sklearn', 'jenkins', 'numpy', 'bash', 'linux', 'sql']\n",
    "req_skills = [skill for skill in possible_skills if skill in text]\n",
    "req_skills"
   ]
  },
  {
   "cell_type": "code",
   "execution_count": 250,
   "metadata": {},
   "outputs": [
    {
     "data": {
      "text/plain": [
       "'python,git,pandas,scikit-learn,numpy'"
      ]
     },
     "execution_count": 250,
     "metadata": {},
     "output_type": "execute_result"
    }
   ],
   "source": [
    "','.join(req_skills)"
   ]
  },
  {
   "cell_type": "code",
   "execution_count": 251,
   "metadata": {},
   "outputs": [
    {
     "data": {
      "text/plain": [
       "',python,git,pandas,scikit-learn,numpy'"
      ]
     },
     "execution_count": 251,
     "metadata": {},
     "output_type": "execute_result"
    }
   ],
   "source": [
    "out = ''\n",
    "for skill in possible_skills:\n",
    "    if skill in text:\n",
    "        out += f',{skill}'\n",
    "out"
   ]
  },
  {
   "cell_type": "code",
   "execution_count": null,
   "metadata": {},
   "outputs": [],
   "source": []
  }
 ],
 "metadata": {
  "kernelspec": {
   "display_name": ".venv",
   "language": "python",
   "name": "python3"
  },
  "language_info": {
   "codemirror_mode": {
    "name": "ipython",
    "version": 3
   },
   "file_extension": ".py",
   "mimetype": "text/x-python",
   "name": "python",
   "nbconvert_exporter": "python",
   "pygments_lexer": "ipython3",
   "version": "3.10.7"
  },
  "orig_nbformat": 4,
  "vscode": {
   "interpreter": {
    "hash": "3df9265ce1f1e30ce31aa5e5a99b826c37b5edaea168b44c86d48e1f11ba62ac"
   }
  }
 },
 "nbformat": 4,
 "nbformat_minor": 2
}
